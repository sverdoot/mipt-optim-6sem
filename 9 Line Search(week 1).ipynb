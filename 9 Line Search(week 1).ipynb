{
 "cells": [
  {
   "cell_type": "markdown",
   "metadata": {
    "deletable": false,
    "editable": false,
    "nbgrader": {
     "checksum": "2cae76a17dd2572442037d72de878e81",
     "grade": false,
     "grade_id": "cell-1fdec7cec4dac8f5",
     "locked": true,
     "schema_version": 1,
     "solution": false
    }
   },
   "source": [
    "# Одномерная минимизация и скорость сходимости"
   ]
  },
  {
   "cell_type": "markdown",
   "metadata": {
    "deletable": false,
    "editable": false,
    "nbgrader": {
     "checksum": "b3f881349d49b12bc5eaa354c4fa547f",
     "grade": false,
     "grade_id": "cell-ad404ae5ee63d5ea",
     "locked": true,
     "schema_version": 1,
     "solution": false
    }
   },
   "source": [
    "## Теория"
   ]
  },
  {
   "cell_type": "markdown",
   "metadata": {
    "deletable": false,
    "editable": false,
    "nbgrader": {
     "checksum": "e4b95544e54af51541dc406fb11d8b6b",
     "grade": false,
     "grade_id": "cell-2c5402e2a2fb6587",
     "locked": true,
     "schema_version": 1,
     "solution": false
    }
   },
   "source": [
    "### 1\n",
    "Определить скорость сходимости следующих последовательностей:\n",
    "\n",
    "1. $r_k = \\left\\{ (0.707)^k \\right\\}_{k=1}^\\infty$\n",
    "2. $r_k = \\left\\{ (0.707)^{2^k} \\right\\}_{k=1}^\\infty$\n",
    "3. $r_k = \\left\\{ \\dfrac{1}{k^2} \\right\\}_{k=1}^\\infty$\n",
    "4. $r_k = \\left\\{ \\dfrac{1}{k!} \\right\\}_{k=1}^\\infty$\n",
    "5. $r_k =\\begin{cases} \\frac{1}{k}, & \\mbox{if } k\\mbox{ is even} \\\\ \\frac{1}{k^2}, & \\mbox{if } k\\mbox{ is odd} \\end{cases}$\n",
    "6. $r_k =\\begin{cases} \\frac{1}{k^k}, & \\mbox{if } k\\mbox{ is even} \\\\ \\frac{1}{k^{2k}}, & \\mbox{if } k\\mbox{ is odd} \\end{cases}$"
   ]
  },
  {
   "cell_type": "markdown",
   "metadata": {
    "deletable": false,
    "nbgrader": {
     "checksum": "3017267660070e001e82ec5574c6b059",
     "grade": true,
     "grade_id": "cell-3f0dd23e3bac74dd",
     "locked": false,
     "points": 2,
     "schema_version": 1,
     "solution": true
    }
   },
   "source": [
    "1. $\\alpha \\equiv \\dfrac{r_{k+1}}{r_k} \\equiv 0.707 \\Rightarrow $ последовательность сходится линейно с константой $0.707$\n",
    "\n",
    "2. $\\alpha \\equiv r_k^{1/k} = 0.707^2 \\approx 0.499\\Rightarrow $ последовательность сходится линейно с константой 0.5\n",
    "\n",
    "3. $\\dfrac{r_{k+1}}{r_k} = \\dfrac{k^2}{k^2+2k+1} < 1. ~\\lim_{k \\rightarrow \\infty}\\inf \\dfrac{r_{k+1}}{r_k}=\\lim_{k \\rightarrow \\infty}\\dfrac{r_{k+1}}{r_k}  = 1 \\Rightarrow$ последовательность сходится сублинейно\n",
    "\n",
    "4. $\\dfrac{r_{k+1}}{r_k} = \\dfrac{1}{k+1}.~\\lim \\dfrac{r_{k+1}}{r_k} = 0 \\Rightarrow$ последовательность сходится сверхлинейно\n",
    "\n",
    "5. $\\dfrac{r_{k+1}}{r_k} = \\begin{cases} \\frac{k}{(k+1)^2}, & \\mbox{if } k\\mbox{ is even} \\\\ \\frac{k^2}{k+1}, & \\mbox{if } k\\mbox{ is odd} \\end{cases}\\\\\n",
    "   \\alpha = lim_{k \\rightarrow \\infty}\\dfrac{r_{k+1}}{r_k} ~не ~существует\\\\\n",
    "    получаем ~случай~ \\lim_{k \\to \\infty} \\inf \\dfrac{r_{k+1}}{r_k} \\lt  1 \\leq  \\lim_{k \\to \\infty} \\sup \\dfrac{r_{k+1}}{r_k}$\n",
    "    \n",
    "    нельзя утверждать что-то о сходимости.\n",
    "\n",
    "6. $r_{2k}^{1/2k} = \\dfrac{1}{2k}, ~r_{2k+1}^{1/{(2k+1)}} = \\dfrac{1}{{(2k+1)}^2}. \n",
    "    \\\\ \\frac{1}{(k+1)^2} <\\sup_{n\\ge k} r_k^{1/k} < 1/k.\n",
    "    \\\\\\lim_{n \\rightarrow \\infty}\\sup_{n\\ge k} r_k^{1/k} = 0 \\Rightarrow $ \n",
    "    \n",
    "    последовательность сходится сверхлинейно"
   ]
  },
  {
   "cell_type": "markdown",
   "metadata": {
    "deletable": false,
    "editable": false,
    "nbgrader": {
     "checksum": "e76a775fa2035ad3de3abdd2dcab8255",
     "grade": false,
     "grade_id": "cell-eec927cb058248f1",
     "locked": true,
     "schema_version": 1,
     "solution": false
    }
   },
   "source": [
    "### 2\n",
    "Рассмотрите функцию $f(x) = x \\cdot e^x + \\sin e^x, \\;\\;\\; x \\in [-5, 0]$ . Рассмотрите методы локализации решения, при которых отрезок делится на 2 части в фиксированной пропорции $t: x_t = a + t*(b-a)$.\n",
    "\n",
    "* Проведите эксперименты при различных значениях $t \\in [0,1]$ и постройте график зависимости $\\overline{N} (t)$ - среднего значения количества итераций, необходимых для достижения $\\varepsilon$ - точности от параметра $t$. (Для каждого значения $t$ провести не менее 5 запусков).</li>\n",
    "* Попробуйте на каждом шаге выбирать точку так, чтобы $t$ было распределено равномерно от $0$ до $1$. Постройте график зависимости среднего (по экспериментам) значения функции от итерации. Помимо среднего отложите на графике так же разброс, соответствующий стандартному отклонению. Провести не менее 33 экспериментов. Сравните результаты по среднему количеству итераций с первым пунктом.</li>\n",
    "\n",
    "Считать $\\varepsilon = 10^{-7}$."
   ]
  },
  {
   "cell_type": "code",
   "execution_count": 103,
   "metadata": {},
   "outputs": [],
   "source": [
    "%matplotlib inline\n",
    "import matplotlib.pyplot as plt\n",
    "import seaborn as sns\n",
    "import numpy as np"
   ]
  },
  {
   "cell_type": "code",
   "execution_count": 97,
   "metadata": {
    "deletable": false,
    "nbgrader": {
     "checksum": "538b17c4246b5cfc61da8ed4f9e24856",
     "grade": true,
     "grade_id": "cell-b6b9a8a1425f3c2c",
     "locked": false,
     "points": 4,
     "schema_version": 1,
     "solution": true
    }
   },
   "outputs": [
    {
     "data": {
      "text/plain": [
       "Text(0.5,1,'Objective function')"
      ]
     },
     "execution_count": 97,
     "metadata": {},
     "output_type": "execute_result"
    },
    {
     "data": {
      "image/png": "[encoded data removed]",
      "text/plain": [
       "<Figure size 432x288 with 1 Axes>"
      ]
     },
     "metadata": {},
     "output_type": "display_data"
    }
   ],
   "source": [
    "# Target unimodal function on given segment\n",
    "f = lambda x: x*np.exp(x)+np.sin(np.exp(x)) \n",
    "\n",
    "a = -10\n",
    "b = 2.5\n",
    "epsilon = 1e-7\n",
    "#x_opt = binary_search(f, a, b, epsilon, callback_bs)\n",
    "\n",
    "plt.plot(np.linspace(a,b), f(np.linspace(a,b)))\n",
    "plt.title(\"Objective function\")"
   ]
  },
  {
   "cell_type": "markdown",
   "metadata": {},
   "source": [
    "### Part one"
   ]
  },
  {
   "cell_type": "code",
   "execution_count": 43,
   "metadata": {},
   "outputs": [],
   "source": [
    "def binary_search(f, a, b, epsilon, t=0.5):\n",
    "    c = a + t * (b - a)\n",
    "    k = 0\n",
    "    while max(abs(b - c),abs(c - a)) > epsilon:\n",
    "        k = k + 1\n",
    "        y = a + t * (c - a)\n",
    "        if f(y) <= f(c):\n",
    "            b = c\n",
    "            c = y\n",
    "        else:\n",
    "            z = c + t * (b - c)\n",
    "            if f(c) <= f(z):\n",
    "                a = y\n",
    "                b = z\n",
    "            else:\n",
    "                a = c\n",
    "                c = z\n",
    "    return c, k"
   ]
  },
  {
   "cell_type": "code",
   "execution_count": 44,
   "metadata": {},
   "outputs": [
    {
     "data": {
      "text/plain": [
       "Text(0.5,1,'Mean number of iterations')"
      ]
     },
     "execution_count": 44,
     "metadata": {},
     "output_type": "execute_result"
    },
    {
     "data": {
      "image/png": "[encoded data removed]",
      "text/plain": [
       "<Figure size 432x288 with 1 Axes>"
      ]
     },
     "metadata": {},
     "output_type": "display_data"
    }
   ],
   "source": [
    "t_list = np.linspace(0, 1, 200)[1:-1]\n",
    "N_list = []\n",
    "for t in t_list:\n",
    "    temp = []\n",
    "    for i in range(5):\n",
    "        _, k = binary_search(f, a, b, epsilon, t)\n",
    "        temp.append(k)\n",
    "    N_list.append(np.mean(temp))\n",
    "plt.plot(t_list, N_list)\n",
    "plt.title(\"Mean number of iterations\")"
   ]
  },
  {
   "cell_type": "code",
   "execution_count": 124,
   "metadata": {},
   "outputs": [
    {
     "data": {
      "text/plain": [
       "27.0"
      ]
     },
     "execution_count": 124,
     "metadata": {},
     "output_type": "execute_result"
    }
   ],
   "source": [
    "N_list[100]"
   ]
  },
  {
   "cell_type": "markdown",
   "metadata": {},
   "source": [
    "### Part two"
   ]
  },
  {
   "cell_type": "code",
   "execution_count": 119,
   "metadata": {},
   "outputs": [],
   "source": [
    "def stoch_binary_search(f, a, b, epsilon):\n",
    "    val = []\n",
    "    t = np.random.rand()\n",
    "    c = a + t * (b - a)\n",
    "    k = 0\n",
    "    val.append(f(c))\n",
    "    while max(abs(b - c),abs(c - a)) > epsilon:\n",
    "        k = k + 1\n",
    "        t = np.random.rand()\n",
    "        y = a + t * (c - a)\n",
    "        if f(y) <= f(c):\n",
    "            b = c\n",
    "            c = y\n",
    "        else:\n",
    "            z = c + t * (b - c)\n",
    "            if f(c) <= f(z):\n",
    "                a = y\n",
    "                b = z\n",
    "            else:\n",
    "                a = c\n",
    "                c = z\n",
    "        val.append(f(c))\n",
    "    return c, k, val"
   ]
  },
  {
   "cell_type": "code",
   "execution_count": 121,
   "metadata": {},
   "outputs": [
    {
     "data": {
      "text/plain": [
       "Text(0,0.5,'Function value')"
      ]
     },
     "execution_count": 121,
     "metadata": {},
     "output_type": "execute_result"
    },
    {
     "data": {
      "image/png": "[encoded data removed]",
      "text/plain": [
       "<Figure size 432x288 with 1 Axes>"
      ]
     },
     "metadata": {},
     "output_type": "display_data"
    }
   ],
   "source": [
    "means = []\n",
    "stds = []\n",
    "iter_val = {}\n",
    "num_iter = []\n",
    "for i in range(200):\n",
    "    _, k, val = stoch_binary_search(f, a, b, epsilon)\n",
    "    num_iter.append(k)\n",
    "    for i in range(len(val)):\n",
    "        if i not in iter_val.keys():\n",
    "            iter_val[i] = []\n",
    "        iter_val[i].append(val[i])\n",
    "for i in iter_val.keys():\n",
    "    means.append(np.mean(iter_val[i]))\n",
    "    stds.append(np.std(iter_val[i]))\n",
    "plt.errorbar(range(2,len(means)), means[2:], yerr=stds[2:])\n",
    "plt.title(\"Mean values\")\n",
    "plt.xlabel(\"Iteration\")\n",
    "plt.ylabel(\"Function value\")"
   ]
  },
  {
   "cell_type": "code",
   "execution_count": 122,
   "metadata": {},
   "outputs": [
    {
     "data": {
      "text/plain": [
       "37.65"
      ]
     },
     "execution_count": 122,
     "metadata": {},
     "output_type": "execute_result"
    }
   ],
   "source": [
    "np.mean(num_iter)"
   ]
  },
  {
   "cell_type": "markdown",
   "metadata": {
    "deletable": false,
    "editable": false,
    "nbgrader": {
     "checksum": "f61ccb18ab4df5508195cabd815c8c44",
     "grade": false,
     "grade_id": "cell-22934b0d2196a67c",
     "locked": true,
     "schema_version": 1,
     "solution": false
    }
   },
   "source": [
    "## Практика"
   ]
  },
  {
   "cell_type": "markdown",
   "metadata": {
    "deletable": false,
    "editable": false,
    "nbgrader": {
     "checksum": "503b1f42a5b5eb4b6bc8f8be67bb9994",
     "grade": false,
     "grade_id": "dichotomy_cond",
     "locked": true,
     "schema_version": 1,
     "solution": false
    }
   },
   "source": [
    "### 3\n",
    "Напишите функцию `dichotomy()`, которая решает задачу минимизации одномерной функции $f(x)=ax^2+b⋅x+c$  при условии, что $x_1\\leq x \\leq x_2$,$x_1 < x_2$ с помощью метода дихотомии с $\\varepsilon$ точностью относительно размера локализуемого отрезка. Функция возвращает массив из 5 последних итераций в формате np.array."
   ]
  },
  {
   "cell_type": "code",
   "execution_count": 128,
   "metadata": {
    "deletable": false,
    "nbgrader": {
     "checksum": "562679d9e3a3ef1daeebcf5f05a5bc27",
     "grade": false,
     "grade_id": "dichotomy",
     "locked": false,
     "schema_version": 1,
     "solution": true
    }
   },
   "outputs": [],
   "source": [
    "import numpy as np\n",
    "def dichotomy(a,b,c,x1,x2, epsilon):\n",
    "    f = lambda x: a*x**2 + b*x + c\n",
    "    vals = []\n",
    "    x3 = (x1 + x2) / 2\n",
    "    val.append(f(x3))\n",
    "    while abs(x2 - x1) > epsilon:\n",
    "        y = (x1 + x3) / 2.0\n",
    "        if f(y) <= f(x3):\n",
    "            x2 = x3\n",
    "            x3 = y\n",
    "        else:\n",
    "            z = (x2 + x3) / 2.0\n",
    "            if f(x3) <= f(z):\n",
    "                x1 = y\n",
    "                x2 = z\n",
    "            else:\n",
    "                x1 = x3\n",
    "                x3 = z\n",
    "        val.append(f(x3))\n",
    "    array_of_5_last_iterations = np.array(val[-5:])\n",
    "    #raise NotImplementedError()\n",
    "    return array_of_5_last_iterations"
   ]
  },
  {
   "cell_type": "code",
   "execution_count": 134,
   "metadata": {},
   "outputs": [
    {
     "data": {
      "text/plain": [
       "array([-15.6225, -15.6225, -15.6225, -15.6225, -15.6225])"
      ]
     },
     "execution_count": 134,
     "metadata": {},
     "output_type": "execute_result"
    }
   ],
   "source": [
    "dichotomy(400, -214, 13, 0, 0.5, 1e-7)"
   ]
  },
  {
   "cell_type": "code",
   "execution_count": null,
   "metadata": {
    "deletable": false,
    "editable": false,
    "nbgrader": {
     "checksum": "7ce12116ced60b23e4167bc9f1a5a815",
     "grade": true,
     "grade_id": "test_dichotomy",
     "locked": true,
     "points": 2,
     "schema_version": 1,
     "solution": false
    }
   },
   "outputs": [],
   "source": []
  },
  {
   "cell_type": "markdown",
   "metadata": {
    "deletable": false,
    "editable": false,
    "nbgrader": {
     "checksum": "e015d82b85366ecb8e643105edd17312",
     "grade": false,
     "grade_id": "fibonacci_cond",
     "locked": true,
     "schema_version": 1,
     "solution": false
    }
   },
   "source": [
    "### 4\n",
    "Напишите функцию `fibonacci()`, которая решает задачу минимизации одномерной функции $f(x)=ax^2+b⋅x+c$  при условии, что $x_1\\leq x \\leq x_2$,$x_1 < x_2$ с помощью метода Фибоначчи с $\\varepsilon$ точностью относительно размера локализуемого отрезка. Функция возвращает массив из 5 последних итераций в формате np.array."
   ]
  },
  {
   "cell_type": "code",
   "execution_count": 139,
   "metadata": {
    "deletable": false,
    "nbgrader": {
     "checksum": "f63a56d43b3218ff809a4e73af3dae12",
     "grade": false,
     "grade_id": "fibonacci",
     "locked": false,
     "schema_version": 1,
     "solution": true
    }
   },
   "outputs": [],
   "source": [
    "import numpy as np\n",
    "def fibonacci(a,b,c,x1,x2, epsilon):\n",
    "    f = lambda x: a*x**2 + b*x + c\n",
    "    maj = (x2 - x1) / epsilon\n",
    "    fib_num = [1, 1]\n",
    "    while maj > fib_num[-1]:\n",
    "        fib_num.append(fib_num[-1]+fib_num[-2])\n",
    "    lam = x1 + (x2 - x1) * fib_num[-3] / fib_num[-1]\n",
    "    mu = x1 + (x2 - x1) * fib_num[-2] / fib_num[-1]\n",
    "    vals = []\n",
    "    val1 = f(lam)\n",
    "    val2 = f(mu)\n",
    "    for k in range(1, len(fib_num) - 2):\n",
    "        if val1 > val2:\n",
    "            x1 = lam\n",
    "            x2 = x2\n",
    "            lam = mu\n",
    "            mu = x1 + (x2 - x1) * fib_num[-2 - k] / fib_num[-1 - k]\n",
    "            val1 = val2\n",
    "            val2 = f(mu)\n",
    "            vals.append(val2)\n",
    "        else:\n",
    "            x1 = x1\n",
    "            x2 = mu\n",
    "            mu = lam\n",
    "            lam = x1 + (x2 - x1) * fib_num[-3 - k] / fib_num[-1 - k]\n",
    "            val2 = val1\n",
    "            val1 = f(lam)\n",
    "            vals.append(val1)\n",
    "    #raise NotImplementedError()\n",
    "    array_of_5_last_iterations = np.array(vals[-5:])\n",
    "    return array_of_5_last_iterations"
   ]
  },
  {
   "cell_type": "code",
   "execution_count": 140,
   "metadata": {},
   "outputs": [
    {
     "data": {
      "text/plain": [
       "array([-15.6225, -15.6225, -15.6225, -15.6225, -15.6225])"
      ]
     },
     "execution_count": 140,
     "metadata": {},
     "output_type": "execute_result"
    }
   ],
   "source": [
    "fibonacci(400, -214, 13, 0, 0.5, 1e-7)"
   ]
  },
  {
   "cell_type": "code",
   "execution_count": null,
   "metadata": {
    "deletable": false,
    "editable": false,
    "nbgrader": {
     "checksum": "47985750c0792328cda9d805be7ffcbb",
     "grade": true,
     "grade_id": "test_fibonacci",
     "locked": true,
     "points": 2,
     "schema_version": 1,
     "solution": false
    }
   },
   "outputs": [],
   "source": []
  }
 ],
 "metadata": {
  "kernelspec": {
   "display_name": "Python 3",
   "language": "python",
   "name": "python3"
  },
  "language_info": {
   "codemirror_mode": {
    "name": "ipython",
    "version": 3
   },
   "file_extension": ".py",
   "mimetype": "text/x-python",
   "name": "python",
   "nbconvert_exporter": "python",
   "pygments_lexer": "ipython3",
   "version": "3.6.5"
  },
  "toc": {
   "nav_menu": {},
   "number_sections": false,
   "sideBar": true,
   "skip_h1_title": false,
   "title_cell": "Table of Contents",
   "title_sidebar": "Contents",
   "toc_cell": false,
   "toc_position": {},
   "toc_section_display": true,
   "toc_window_display": false
  },
  "varInspector": {
   "cols": {
    "lenName": 16,
    "lenType": 16,
    "lenVar": 40
   },
   "kernels_config": {
    "python": {
     "delete_cmd_postfix": "",
     "delete_cmd_prefix": "del ",
     "library": "var_list.py",
     "varRefreshCmd": "print(var_dic_list())"
    },
    "r": {
     "delete_cmd_postfix": ") ",
     "delete_cmd_prefix": "rm(",
     "library": "var_list.r",
     "varRefreshCmd": "cat(var_dic_list()) "
    }
   },
   "types_to_exclude": [
    "module",
    "function",
    "builtin_function_or_method",
    "instance",
    "_Feature"
   ],
   "window_display": false
  }
 },
 "nbformat": 4,
 "nbformat_minor": 2
}
